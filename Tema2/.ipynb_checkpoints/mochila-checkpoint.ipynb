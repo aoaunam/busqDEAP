{
 "cells": [
  {
   "cell_type": "markdown",
   "id": "1d3dfbab",
   "metadata": {},
   "source": [
    "# Problema de la mochila\n",
    "Un conjunto de artículos, cada uno de ellos asociado con un cierto valor y un cierto peso deben ser guardados en una bolsa/saco/contenedor (la mochila) de cierta capacidad de peso\n",
    "\n",
    "## Módulos requeridos para nuestra evolución.\n",
    "- `deap`\n",
    "- `numpy`\n",
    "- `matplotlib`\n",
    "- `seaborn`\n",
    "\n",
    "## Módulos creados\n",
    "- `knapsack` ver https://rosettacode.org/wiki/Knapsack_problem/0-1"
   ]
  },
  {
   "cell_type": "code",
   "execution_count": 2,
   "id": "02cc1cad",
   "metadata": {
    "collapsed": false,
    "jupyter": {
     "outputs_hidden": false
    },
    "tags": []
   },
   "outputs": [],
   "source": [
    "from deap import base\n",
    "from deap import creator\n",
    "from deap import tools\n",
    "from deap import algorithms\n",
    "\n",
    "import random\n",
    "import numpy\n",
    "\n",
    "import matplotlib.pyplot as plt\n",
    "import seaborn as sns\n",
    "\n",
    "import knapsack\n",
    "\n",
    "# problem constants:\n",
    "# create the knapsack problem instance to be used:\n",
    "knapsack = knapsack.Knapsack01Problem()\n",
    "\n",
    "# Genetic Algorithm constants:\n",
    "POPULATION_SIZE = 50\n",
    "P_CROSSOVER = 0.9  # probability for crossover\n",
    "P_MUTATION = 0.1   # probability for mutating an individual\n",
    "MAX_GENERATIONS = 50\n",
    "HALL_OF_FAME_SIZE = 1\n",
    "\n",
    "# set the random seed:\n",
    "RANDOM_SEED = 42\n",
    "random.seed(RANDOM_SEED)\n",
    "\n",
    "toolbox = base.Toolbox()\n",
    "# create an operator that randomly returns 0 or 1:\n",
    "toolbox.register(\"zeroOrOne\", random.randint, 0, 1)\n",
    "# define a single objective, maximizing fitness strategy:\n",
    "creator.create(\"FitnessMax\", base.Fitness, weights=(1.0,))\n",
    "# create the Individual class based on list:\n",
    "creator.create(\"Individual\", list, fitness=creator.FitnessMax)\n",
    "# create the individual operator to fill up an Individual instance:\n",
    "toolbox.register(\"individualCreator\", tools.initRepeat, creator.Individual, toolbox.zeroOrOne, len(knapsack))\n",
    "# create the population operator to generate a list of individuals:\n",
    "toolbox.register(\"populationCreator\", tools.initRepeat, list, toolbox.individualCreator)\n"
   ]
  },
  {
   "cell_type": "markdown",
   "id": "ea94d892",
   "metadata": {},
   "source": [
    "## Evaluación de la Función"
   ]
  },
  {
   "cell_type": "code",
   "execution_count": 3,
   "id": "702a7afc",
   "metadata": {
    "collapsed": false,
    "jupyter": {
     "outputs_hidden": false
    },
    "tags": []
   },
   "outputs": [],
   "source": [
    "# fitness calculation\n",
    "def knapsackValue(individual):\n",
    "    return knapsack.getValue(individual),  # return a tuple"
   ]
  },
  {
   "cell_type": "markdown",
   "id": "56af98be",
   "metadata": {},
   "source": [
    "## Operadores Genéticos"
   ]
  },
  {
   "cell_type": "code",
   "execution_count": 4,
   "id": "412d7141",
   "metadata": {
    "collapsed": false,
    "jupyter": {
     "outputs_hidden": false
    },
    "tags": []
   },
   "outputs": [],
   "source": [
    "toolbox.register(\"evaluate\", knapsackValue)\n",
    "# Tournament selection with tournament size of 3:\n",
    "toolbox.register(\"select\", tools.selTournament, tournsize=3)\n",
    "# Single-point crossover:\n",
    "toolbox.register(\"mate\", tools.cxTwoPoint)\n",
    "# Flip-bit mutation:\n",
    "# indpb: Independent probability for each attribute to be flipped\n",
    "toolbox.register(\"mutate\", tools.mutFlipBit, indpb=1.0/len(knapsack))"
   ]
  },
  {
   "cell_type": "markdown",
   "id": "5a1a859c",
   "metadata": {},
   "source": [
    "## Evolución de la población"
   ]
  },
  {
   "cell_type": "code",
   "execution_count": 5,
   "id": "b0e40db1-3032-4c1e-84f6-73d0f63fbb66",
   "metadata": {
    "tags": []
   },
   "outputs": [
    {
     "name": "stdout",
     "output_type": "stream",
     "text": [
      "gen\tnevals\tmax\tavg   \n",
      "0  \t50    \t805\t595.86\n",
      "1  \t50    \t860\t704.66\n",
      "2  \t48    \t867\t750.42\n",
      "3  \t46    \t905\t793.74\n",
      "4  \t48    \t945\t826.8 \n",
      "5  \t46    \t955\t858.18\n",
      "6  \t42    \t1000\t897.02\n",
      "7  \t44    \t1002\t916   \n",
      "8  \t46    \t1030\t952.2 \n",
      "9  \t45    \t1030\t974.14\n",
      "10 \t50    \t1030\t985.88\n",
      "11 \t48    \t1030\t998.9 \n",
      "12 \t45    \t1030\t1003.7\n",
      "13 \t47    \t1030\t1023.3\n",
      "14 \t45    \t1030\t1018.9\n",
      "15 \t46    \t1030\t1021.6\n",
      "16 \t47    \t1030\t1022.1\n",
      "17 \t48    \t1030\t1026.7\n",
      "18 \t46    \t1030\t1020  \n",
      "19 \t43    \t1030\t1018.34\n",
      "20 \t46    \t1030\t1024.9 \n",
      "21 \t46    \t1030\t1016.9 \n",
      "22 \t45    \t1030\t1022.8 \n",
      "23 \t46    \t1030\t1027.7 \n",
      "24 \t44    \t1030\t1021.1 \n",
      "25 \t49    \t1030\t1025.7 \n",
      "26 \t44    \t1030\t1015.6 \n",
      "27 \t42    \t1030\t1017.1 \n",
      "28 \t44    \t1030\t1017.1 \n",
      "29 \t43    \t1030\t1023.24\n",
      "30 \t50    \t1030\t1025.6 \n",
      "31 \t46    \t1030\t1025.5 \n",
      "32 \t48    \t1030\t1027.5 \n",
      "33 \t46    \t1030\t1030   \n",
      "34 \t47    \t1030\t1018.74\n",
      "35 \t47    \t1030\t1023.2 \n",
      "36 \t36    \t1030\t1024.1 \n",
      "37 \t48    \t1030\t1016.1 \n",
      "38 \t45    \t1030\t1022.6 \n",
      "39 \t42    \t1030\t1018.7 \n",
      "40 \t47    \t1030\t1022.94\n",
      "41 \t46    \t1030\t1027.1 \n",
      "42 \t43    \t1030\t1024.7 \n",
      "43 \t46    \t1030\t1016.1 \n",
      "44 \t44    \t1030\t1025.7 \n",
      "45 \t48    \t1030\t1023.3 \n",
      "46 \t50    \t1030\t1025.6 \n",
      "47 \t50    \t1030\t1026.1 \n",
      "48 \t45    \t1030\t1024.6 \n",
      "49 \t49    \t1030\t1020.9 \n",
      "50 \t46    \t1030\t1021.9 \n",
      "-- Best Ever Individual =  [1, 1, 1, 1, 1, 0, 1, 0, 0, 0, 1, 0, 0, 0, 0, 1, 1, 1, 1, 0, 1, 1]\n",
      "-- Best Ever Fitness =  1030.0\n",
      "-- Knapsack Items = \n",
      "- Adding map: weight = 9, value = 150, accumulated weight = 9, accumulated value = 150\n",
      "- Adding compass: weight = 13, value = 35, accumulated weight = 22, accumulated value = 185\n",
      "- Adding water: weight = 153, value = 200, accumulated weight = 175, accumulated value = 385\n",
      "- Adding sandwich: weight = 50, value = 160, accumulated weight = 225, accumulated value = 545\n",
      "- Adding glucose: weight = 15, value = 60, accumulated weight = 240, accumulated value = 605\n",
      "- Adding banana: weight = 27, value = 60, accumulated weight = 267, accumulated value = 665\n",
      "- Adding suntan cream: weight = 11, value = 70, accumulated weight = 278, accumulated value = 735\n",
      "- Adding waterproof trousers: weight = 42, value = 70, accumulated weight = 320, accumulated value = 805\n",
      "- Adding waterproof overclothes: weight = 43, value = 75, accumulated weight = 363, accumulated value = 880\n",
      "- Adding note-case: weight = 22, value = 80, accumulated weight = 385, accumulated value = 960\n",
      "- Adding sunglasses: weight = 7, value = 20, accumulated weight = 392, accumulated value = 980\n",
      "- Adding socks: weight = 4, value = 50, accumulated weight = 396, accumulated value = 1030\n",
      "- Total weight = 396, Total value = 1030\n"
     ]
    },
    {
     "data": {
      "image/png": "[encoded data removed]",
      "text/plain": [
       "<Figure size 640x480 with 1 Axes>"
      ]
     },
     "metadata": {},
     "output_type": "display_data"
    }
   ],
   "source": [
    "# Genetic Algorithm flow:\n",
    "def main():\n",
    "\n",
    "    # create initial population (generation 0):\n",
    "    population = toolbox.populationCreator(n=POPULATION_SIZE)\n",
    "\n",
    "    # prepare the statistics object:\n",
    "    stats = tools.Statistics(lambda ind: ind.fitness.values)\n",
    "    stats.register(\"max\", numpy.max)\n",
    "    stats.register(\"avg\", numpy.mean)\n",
    "\n",
    "    # define the hall-of-fame object:\n",
    "    hof = tools.HallOfFame(HALL_OF_FAME_SIZE)\n",
    "\n",
    "    # perform the Genetic Algorithm flow with hof feature added:\n",
    "    population, logbook = algorithms.eaSimple(population, toolbox, cxpb=P_CROSSOVER, mutpb=P_MUTATION,\n",
    "                                              ngen=MAX_GENERATIONS, stats=stats, halloffame=hof, verbose=True)\n",
    "\n",
    "    # print best solution found:\n",
    "    best = hof.items[0]\n",
    "    print(\"-- Best Ever Individual = \", best)\n",
    "    print(\"-- Best Ever Fitness = \", best.fitness.values[0])\n",
    "\n",
    "    print(\"-- Knapsack Items = \")\n",
    "    knapsack.printItems(best)\n",
    "\n",
    "    # extract statistics:\n",
    "    maxFitnessValues, meanFitnessValues = logbook.select(\"max\", \"avg\")\n",
    "\n",
    "    # plot statistics:\n",
    "    sns.set_style(\"whitegrid\")\n",
    "    plt.plot(maxFitnessValues, color='red')\n",
    "    plt.plot(meanFitnessValues, color='green')\n",
    "    plt.xlabel('Generation')\n",
    "    plt.ylabel('Max / Average Fitness')\n",
    "    plt.title('Max and Average fitness over Generations')\n",
    "    plt.show()\n",
    "\n",
    "\n",
    "if __name__ == \"__main__\":\n",
    "    main()"
   ]
  },
  {
   "cell_type": "code",
   "execution_count": null,
   "id": "e0ad3cad-a6be-49de-b390-e48813b1b451",
   "metadata": {},
   "outputs": [],
   "source": []
  }
 ],
 "metadata": {
  "kernelspec": {
   "display_name": "Python 3 (ipykernel)",
   "language": "python",
   "name": "python3"
  },
  "language_info": {
   "codemirror_mode": {
    "name": "ipython",
    "version": 3
   },
   "file_extension": ".py",
   "mimetype": "text/x-python",
   "name": "python",
   "nbconvert_exporter": "python",
   "pygments_lexer": "ipython3",
   "version": "3.10.10"
  }
 },
 "nbformat": 4,
 "nbformat_minor": 5
}
